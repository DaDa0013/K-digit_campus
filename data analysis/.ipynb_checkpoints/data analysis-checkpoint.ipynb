{
 "cells": [
  {
   "cell_type": "markdown",
   "id": "1a0eb1e1",
   "metadata": {},
   "source": [
    "# 22-07-05 data analysis 실습"
   ]
  },
  {
   "cell_type": "markdown",
   "id": "83dcd8dd",
   "metadata": {},
   "source": [
    "# 실습 1"
   ]
  },
  {
   "cell_type": "code",
   "execution_count": 1,
   "id": "c67e4e09",
   "metadata": {},
   "outputs": [],
   "source": [
    "import numpy as np"
   ]
  },
  {
   "cell_type": "code",
   "execution_count": 2,
   "id": "d7a76815",
   "metadata": {},
   "outputs": [
    {
     "name": "stdout",
     "output_type": "stream",
     "text": [
      "[[[ 0.  1.  2.]\n",
      "  [ 3.  4.  5.]\n",
      "  [ 6.  7.  8.]]\n",
      "\n",
      " [[ 9.  8.  7.]\n",
      "  [ 6.  5.  4.]\n",
      "  [ 3.  2.  1.]]\n",
      "\n",
      " [[-7. -8. -9.]\n",
      "  [-4. -5. -6.]\n",
      "  [-1. -2. -3.]]]\n"
     ]
    }
   ],
   "source": [
    "a = np.ones((3,3,3))\n",
    "a[0] = np.arange(0,9).reshape(3,3)\n",
    "a[1] = np.arange(9,0,-1).reshape(3,3)\n",
    "a[2][0] = np.arange(-7,-10,-1)\n",
    "a[2][1] = np.arange(-4,-7,-1)\n",
    "a[2][2] = np.arange(-1,-4,-1)\n",
    "print(a)"
   ]
  },
  {
   "cell_type": "code",
   "execution_count": 3,
   "id": "d68ce6e5",
   "metadata": {},
   "outputs": [
    {
     "name": "stdout",
     "output_type": "stream",
     "text": [
      "[[[ 0.  1.  2.]\n",
      "  [ 3.  4.  5.]\n",
      "  [ 6.  7.  8.]]\n",
      "\n",
      " [[-1. -1. -1.]\n",
      "  [-1. -1. -1.]\n",
      "  [-1. -1. -1.]]\n",
      "\n",
      " [[-7. -8. -9.]\n",
      "  [-4. -5. -6.]\n",
      "  [-1. -2. -3.]]]\n"
     ]
    }
   ],
   "source": [
    "a[1] = -1\n",
    "print(a)"
   ]
  },
  {
   "cell_type": "code",
   "execution_count": 5,
   "id": "27e51154",
   "metadata": {},
   "outputs": [
    {
     "name": "stdout",
     "output_type": "stream",
     "text": [
      "['지빈' '명환' '연지' '하람' '연지' '진호' '월하' '연지']\n",
      "[[-2.2101516  -0.46759891 -1.14292574 -0.16673479]\n",
      " [-0.66502786  0.31903852  0.60258278  1.06550165]\n",
      " [-1.15734713 -0.52242562  0.13966309  1.40458495]\n",
      " [ 0.66667846 -0.63809464  0.77806716 -1.1494361 ]\n",
      " [-1.27989638  0.25651002 -0.15559312 -0.22281766]\n",
      " [ 0.29042278 -2.03880807  0.21347294  0.31241339]\n",
      " [-1.94019123  0.68588128 -2.36065662 -0.61325743]\n",
      " [-0.21030745 -0.41795583  0.73171776 -0.69709506]]\n"
     ]
    }
   ],
   "source": [
    "import random\n",
    "name_arr = np.array(['지빈', '명환', '연지', '하람', '연지', '진호', '월하', '연지' ])\n",
    "data_arr = np.random.randn(8,4)"
   ]
  },
  {
   "cell_type": "code",
   "execution_count": 6,
   "id": "ce0c8b76",
   "metadata": {},
   "outputs": [
    {
     "name": "stdout",
     "output_type": "stream",
     "text": [
      "[False False  True False  True False False  True]\n"
     ]
    }
   ],
   "source": [
    "print(name_arr == '연지')"
   ]
  },
  {
   "cell_type": "code",
   "execution_count": 7,
   "id": "62fa90b7",
   "metadata": {},
   "outputs": [
    {
     "name": "stdout",
     "output_type": "stream",
     "text": [
      "[[-1.15734713 -0.52242562  0.13966309  1.40458495]\n",
      " [-1.27989638  0.25651002 -0.15559312 -0.22281766]\n",
      " [-0.21030745 -0.41795583  0.73171776 -0.69709506]]\n"
     ]
    }
   ],
   "source": [
    "print(data_arr[name_arr == '연지'])"
   ]
  },
  {
   "cell_type": "code",
   "execution_count": 8,
   "id": "44e4fdb0",
   "metadata": {},
   "outputs": [
    {
     "name": "stdout",
     "output_type": "stream",
     "text": [
      "[[ 0.13966309  1.40458495]\n",
      " [-0.15559312 -0.22281766]\n",
      " [ 0.73171776 -0.69709506]]\n"
     ]
    }
   ],
   "source": [
    "print(data_arr[name_arr == '연지', 2:]) # 그행의 열이 2번째부터 끝까지"
   ]
  },
  {
   "cell_type": "code",
   "execution_count": null,
   "id": "0cd9b4dd",
   "metadata": {},
   "outputs": [],
   "source": []
  }
 ],
 "metadata": {
  "kernelspec": {
   "display_name": "Python 3",
   "language": "python",
   "name": "python3"
  },
  "language_info": {
   "codemirror_mode": {
    "name": "ipython",
    "version": 3
   },
   "file_extension": ".py",
   "mimetype": "text/x-python",
   "name": "python",
   "nbconvert_exporter": "python",
   "pygments_lexer": "ipython3",
   "version": "3.8.8"
  }
 },
 "nbformat": 4,
 "nbformat_minor": 5
}
