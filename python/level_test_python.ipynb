{
 "cells": [
  {
   "cell_type": "markdown",
   "id": "ed252cff",
   "metadata": {},
   "source": [
    "# 1"
   ]
  },
  {
   "cell_type": "code",
   "execution_count": 1,
   "id": "6d15579a",
   "metadata": {},
   "outputs": [
    {
     "name": "stdout",
     "output_type": "stream",
     "text": [
      "20  ********************\n",
      "1  *\n",
      "12  ************\n",
      "9  *********\n",
      "18  ******************\n"
     ]
    }
   ],
   "source": [
    "numbers = [20,1,12, 9, 18]\n",
    "for i in numbers:\n",
    "    print(i, end = '  ')\n",
    "    print('*' * i)"
   ]
  },
  {
   "cell_type": "markdown",
   "id": "bcd11afc",
   "metadata": {},
   "source": [
    "# 2"
   ]
  },
  {
   "cell_type": "code",
   "execution_count": 2,
   "id": "fa7e7114",
   "metadata": {},
   "outputs": [
    {
     "name": "stdout",
     "output_type": "stream",
     "text": [
      "===============================\n",
      "0 1 2 3 4 5 6 7 8 9 10\n",
      "===============================\n",
      "[[0, 0, 0, 0, 0, 0, 0, 0, 0, 0], [0, 0, 0, 0, 0, 0, 0, 0, 0, 0], [0, 0, 0, 0, 0, 0, 0, 0, 0, 0], [0, 0, 0, 0, 0, 0, 0, 0, 0, 0], [0, 0, 0, 0, 0, 0, 0, 0, 0, 0], [0, 0, 0, 0, 0, 0, 0, 0, 0, 0], [0, 0, 0, 0, 0, 0, 0, 0, 0, 0], [0, 0, 0, 0, 0, 0, 0, 0, 0, 0], [0, 0, 0, 0, 0, 0, 0, 0, 0, 0], [0, 0, 0, 0, 0, 0, 0, 0, 0, 0]]\n",
      "원하시는 좌석의 행번호를 입력하세요(종료는 -1)2\n",
      "원하시는 좌석의 열번호를 입력하세요(종료는 -1)3\n",
      "예약합니다.\n",
      "===============================\n",
      "0 1 2 3 4 5 6 7 8 9 10\n",
      "===============================\n",
      "[[0, 0, 0, 0, 0, 0, 0, 0, 0, 0], [0, 0, 0, 0, 0, 0, 0, 0, 0, 0], [0, 0, 0, 1, 0, 0, 0, 0, 0, 0], [0, 0, 0, 0, 0, 0, 0, 0, 0, 0], [0, 0, 0, 0, 0, 0, 0, 0, 0, 0], [0, 0, 0, 0, 0, 0, 0, 0, 0, 0], [0, 0, 0, 0, 0, 0, 0, 0, 0, 0], [0, 0, 0, 0, 0, 0, 0, 0, 0, 0], [0, 0, 0, 0, 0, 0, 0, 0, 0, 0], [0, 0, 0, 0, 0, 0, 0, 0, 0, 0]]\n",
      "원하시는 좌석의 행번호를 입력하세요(종료는 -1)-1\n",
      "종료합니다.\n"
     ]
    }
   ],
   "source": [
    "seats = []\n",
    "seats.append([0,0,0,0,0,0,0,0,0,0])\n",
    "seats.append([0,0,0,0,0,0,0,0,0,0])\n",
    "seats.append([0,0,0,0,0,0,0,0,0,0])\n",
    "seats.append([0,0,0,0,0,0,0,0,0,0])\n",
    "seats.append([0,0,0,0,0,0,0,0,0,0])\n",
    "seats.append([0,0,0,0,0,0,0,0,0,0])\n",
    "seats.append([0,0,0,0,0,0,0,0,0,0])\n",
    "seats.append([0,0,0,0,0,0,0,0,0,0])\n",
    "seats.append([0,0,0,0,0,0,0,0,0,0])\n",
    "seats.append([0,0,0,0,0,0,0,0,0,0])\n",
    "def displayBookings():\n",
    "    while(1):\n",
    "        print(\"===============================\")\n",
    "        print(\"0 1 2 3 4 5 6 7 8 9 10\")\n",
    "        print(\"===============================\")\n",
    "        print(seats)\n",
    "        row = int(input(\"원하시는 좌석의 행번호를 입력하세요(종료는 -1)\"))\n",
    "        if(row == -1):\n",
    "            print(\"종료합니다.\")\n",
    "            break\n",
    "        col = int(input(\"원하시는 좌석의 열번호를 입력하세요(종료는 -1)\"))\n",
    "        if(col == -1):\n",
    "            print(\"종료합니다.\")\n",
    "            break\n",
    "        if(seats[row][col] == 0):\n",
    "            seats[row][col] = 1\n",
    "            print(\"예약합니다.\")\n",
    "        else:\n",
    "            print(\"이미 예약된 좌석입니다. 다시 입력해주세요\")\n",
    "displayBookings()"
   ]
  },
  {
   "cell_type": "markdown",
   "id": "866b4ec8",
   "metadata": {},
   "source": [
    "# 3"
   ]
  },
  {
   "cell_type": "code",
   "execution_count": 3,
   "id": "58ae5cd1",
   "metadata": {},
   "outputs": [
    {
     "name": "stdout",
     "output_type": "stream",
     "text": [
      "True\n"
     ]
    }
   ],
   "source": [
    "def common_data(list1, list2):\n",
    "    for i in list1:\n",
    "        if i in list2:\n",
    "            print(\"True\")\n",
    "list1 = [1, 2, 3, 4, 5, 6]\n",
    "list2 = [6, 7, 8, 9, 10]\n",
    "common_data(list1, list2)"
   ]
  },
  {
   "cell_type": "markdown",
   "id": "8f52960e",
   "metadata": {},
   "source": [
    "# 4"
   ]
  },
  {
   "cell_type": "code",
   "execution_count": 4,
   "id": "290c0bee",
   "metadata": {},
   "outputs": [
    {
     "name": "stdout",
     "output_type": "stream",
     "text": [
      "1683\n"
     ]
    }
   ],
   "source": [
    "ans = 0\n",
    "for i in range(1, 101):\n",
    "    if i % 3 == 0:\n",
    "        ans += i\n",
    "print(ans)"
   ]
  },
  {
   "cell_type": "markdown",
   "id": "5b6c8bea",
   "metadata": {},
   "source": [
    "# 5"
   ]
  },
  {
   "cell_type": "code",
   "execution_count": 5,
   "id": "b150c99f",
   "metadata": {},
   "outputs": [
    {
     "name": "stdout",
     "output_type": "stream",
     "text": [
      "정수를 입력하시오: 10\n",
      "\n",
      "1 \n",
      "1 2 \n",
      "1 2 3 \n",
      "1 2 3 4 \n",
      "1 2 3 4 5 \n",
      "1 2 3 4 5 6 \n",
      "1 2 3 4 5 6 7 \n",
      "1 2 3 4 5 6 7 8 \n",
      "1 2 3 4 5 6 7 8 9 \n",
      "1 2 3 4 5 6 7 8 9 10 \n"
     ]
    }
   ],
   "source": [
    "k = int(input(\"정수를 입력하시오: \"))\n",
    "for i in range(1, k+2):\n",
    "    for j in range(1, i):\n",
    "        print(j, end = ' ')\n",
    "    print('')"
   ]
  },
  {
   "cell_type": "markdown",
   "id": "b67967c9",
   "metadata": {},
   "source": [
    "# 6"
   ]
  },
  {
   "cell_type": "code",
   "execution_count": 6,
   "id": "a2f1acc0",
   "metadata": {},
   "outputs": [
    {
     "name": "stdout",
     "output_type": "stream",
     "text": [
      "몇 번째 항까지 구할까요? 10\n",
      "0 1 1 2 3 5 8 13 21 34 55 "
     ]
    }
   ],
   "source": [
    "nterms = int(input(\"몇 번째 항까지 구할까요? \"))\n",
    "prev1 = 0\n",
    "prev2 = 1\n",
    "ans = 0\n",
    "print(prev1, end = ' ')\n",
    "print(prev2, end = ' ')\n",
    "for i in range(1, nterms):\n",
    "    ans = prev2 + prev1\n",
    "    prev1 = prev2\n",
    "    prev2 = ans\n",
    "    print(ans, end = ' ')"
   ]
  },
  {
   "cell_type": "markdown",
   "id": "5636ffe4",
   "metadata": {},
   "source": [
    "# 7"
   ]
  },
  {
   "cell_type": "code",
   "execution_count": 7,
   "id": "a9652d19",
   "metadata": {},
   "outputs": [
    {
     "name": "stdout",
     "output_type": "stream",
     "text": [
      "점수를 입력하세요: 85\n",
      "성적은 B 입니다.\n"
     ]
    }
   ],
   "source": [
    "def getGrade(score):\n",
    "    if(score>=90):\n",
    "        print(\"성적은 A 입니다.\")\n",
    "    elif(score >= 80):\n",
    "        print(\"성적은 B 입니다.\")\n",
    "    elif(score >= 70):\n",
    "        print(\"성적은 C 입니다.\")\n",
    "    elif(score >= 60):\n",
    "        print(\"성적은 D 입니다.\")\n",
    "    else:\n",
    "        print(\"성적은 F 입니다.\")\n",
    "score = int(input(\"점수를 입력하세요: \"))\n",
    "getGrade(score)"
   ]
  },
  {
   "cell_type": "markdown",
   "id": "b0cf6d80",
   "metadata": {},
   "source": [
    "# 8"
   ]
  },
  {
   "cell_type": "code",
   "execution_count": 8,
   "id": "1258941e",
   "metadata": {},
   "outputs": [
    {
     "name": "stdout",
     "output_type": "stream",
     "text": [
      "첫 번째 정수를 입력하시오: 1\n",
      "두 번째 정수를 입력하시오: 2\n",
      "3 -1 2 0.5 가 반환되었습니다.\n"
     ]
    }
   ],
   "source": [
    "def calc(num1, num2):\n",
    "    p = num1 + num2\n",
    "    mn = num1 - num2\n",
    "    mp = num1 * num2\n",
    "    dv = num1 / num2\n",
    "    print(f'{p} {mn} {mp} {dv} 가 반환되었습니다.')\n",
    "num1 = int(input(\"첫 번째 정수를 입력하시오: \"))\n",
    "num2 = int(input(\"두 번째 정수를 입력하시오: \"))\n",
    "calc(num1, num2)"
   ]
  },
  {
   "cell_type": "markdown",
   "id": "03e0dc4f",
   "metadata": {},
   "source": [
    "# 9"
   ]
  },
  {
   "cell_type": "code",
   "execution_count": 9,
   "id": "6576f128",
   "metadata": {},
   "outputs": [
    {
     "name": "stdout",
     "output_type": "stream",
     "text": [
      "문자열을 입력하시오: have a good day\n",
      "금칙어를 입력하시오: good\n",
      "have a **** day\n"
     ]
    }
   ],
   "source": [
    "c = input('문자열을 입력하시오: ')\n",
    "b = input('금칙어를 입력하시오: ')\n",
    "def ban(c):\n",
    "    word = ''\n",
    "    ans =''\n",
    "    i = 0\n",
    "    for i in range(len(c)):\n",
    "        if(i == (len(c) - 1)):\n",
    "            ans += word\n",
    "            break\n",
    "        if (c[i] != ' '):\n",
    "            word += c[i]\n",
    "        else:\n",
    "            if word == b:\n",
    "                ans += '*' * len(word)\n",
    "            else:\n",
    "                ans += word\n",
    "            ans += ' '\n",
    "            word = ''\n",
    "    ans += c[len(c)-1]\n",
    "    print(ans)\n",
    "ban(c)"
   ]
  },
  {
   "cell_type": "markdown",
   "id": "2077cbf3",
   "metadata": {},
   "source": [
    "# 10"
   ]
  },
  {
   "cell_type": "code",
   "execution_count": 10,
   "id": "4910791c",
   "metadata": {},
   "outputs": [
    {
     "name": "stdout",
     "output_type": "stream",
     "text": [
      "첫 번째 문자열: have a good day\n",
      "두 번째 문자열: good\n",
      "['g', 'o', 'd']\n"
     ]
    }
   ],
   "source": [
    "def p(char1, char2):\n",
    "    c = []\n",
    "    for i in char1:\n",
    "        if i in char2:\n",
    "            if i not in c:\n",
    "              c.append(i)\n",
    "    print(c)\n",
    "char1 = input(\"첫 번째 문자열: \")\n",
    "char2 = input(\"두 번째 문자열: \")\n",
    "p(char1, char2)"
   ]
  }
 ],
 "metadata": {
  "kernelspec": {
   "display_name": "Python 3 (ipykernel)",
   "language": "python",
   "name": "python3"
  },
  "language_info": {
   "codemirror_mode": {
    "name": "ipython",
    "version": 3
   },
   "file_extension": ".py",
   "mimetype": "text/x-python",
   "name": "python",
   "nbconvert_exporter": "python",
   "pygments_lexer": "ipython3",
   "version": "3.9.12"
  }
 },
 "nbformat": 4,
 "nbformat_minor": 5
}
