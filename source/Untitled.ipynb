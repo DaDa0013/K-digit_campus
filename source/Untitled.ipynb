{
 "cells": [
  {
   "cell_type": "markdown",
   "id": "4ff83b5f",
   "metadata": {},
   "source": [
    "아나콘다 가상환경 설정 후 jupyter notebook 실행 (conda activate ml)"
   ]
  },
  {
   "cell_type": "code",
   "execution_count": null,
   "id": "93972c27",
   "metadata": {},
   "outputs": [],
   "source": []
  }
 ],
 "metadata": {
  "kernelspec": {
   "display_name": "Python 3 (ipykernel)",
   "language": "python",
   "name": "python3"
  },
  "language_info": {
   "codemirror_mode": {
    "name": "ipython",
    "version": 3
   },
   "file_extension": ".py",
   "mimetype": "text/x-python",
   "name": "python",
   "nbconvert_exporter": "python",
   "pygments_lexer": "ipython3",
   "version": "3.9.12"
  }
 },
 "nbformat": 4,
 "nbformat_minor": 5
}
