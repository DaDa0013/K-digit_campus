{
 "cells": [
  {
   "cell_type": "code",
   "execution_count": 5,
   "id": "4ddb44d0",
   "metadata": {},
   "outputs": [
    {
     "name": "stdout",
     "output_type": "stream",
     "text": [
      "2541\n",
      "1998\n"
     ]
    }
   ],
   "source": [
    "# 불기년도 = 서기년도 - 543\n",
    "y = int(input())\n",
    "ans = y - 543\n",
    "print(ans) #서기년도 출력"
   ]
  },
  {
   "cell_type": "code",
   "execution_count": 7,
   "id": "2b758722",
   "metadata": {},
   "outputs": [
    {
     "name": "stdout",
     "output_type": "stream",
     "text": [
      "9\n",
      "-13\n",
      "4\n"
     ]
    }
   ],
   "source": [
    "x = int(input())\n",
    "y = int(input())\n",
    "def quadrant(x,y):\n",
    "    if x * y > 0: # x,y의 부호가 같을 경우(1,3사분면)\n",
    "        if x > 0: # 1사분면\n",
    "            return 1\n",
    "        else: #3사분면\n",
    "            return 3\n",
    "    else: # x,y부호가 다를 경우(2,4사분면)\n",
    "        if x > 0: # 4사분면\n",
    "            return 4\n",
    "        else:\n",
    "            return 2\n",
    "print(quadrant(x,y))"
   ]
  },
  {
   "cell_type": "code",
   "execution_count": 11,
   "id": "675ce39c",
   "metadata": {},
   "outputs": [
    {
     "name": "stdout",
     "output_type": "stream",
     "text": [
      "10 5\n",
      "1 10 4 9 2 3 8 5 7 6\n",
      "1 4 2 3 "
     ]
    }
   ],
   "source": [
    "n, x = map(int, input().split()) # n , x 입력받기\n",
    "a = list(map(int, input().split())) # 리스트 a 입력받기\n",
    "ans = [] \n",
    "for i in a:\n",
    "    if i < x: # a의 원소가 x보다 작을 경우\n",
    "        print(i, end = ' ') # 공백으로 구분하여 출력"
   ]
  },
  {
   "cell_type": "code",
   "execution_count": 15,
   "id": "ac149f45",
   "metadata": {},
   "outputs": [
    {
     "name": "stdout",
     "output_type": "stream",
     "text": [
      "5\n",
      "1 2 4 8 16\n",
      "38.75\n"
     ]
    }
   ],
   "source": [
    "n = int(input()) # 과목 갯수 입력\n",
    "score = list(map(int, input().split())) # 과목 성적 입력\n",
    "m = max(score)# 점수 중 최댓값\n",
    "n_score = list(map(lambda x:x/m*100, score))# 모든 성적에 점수/최댓값*100 적용\n",
    "print(sum(n_score)/n)#새 과목 평균"
   ]
  },
  {
   "cell_type": "code",
   "execution_count": null,
   "id": "62afa6aa",
   "metadata": {},
   "outputs": [],
   "source": [
    "def "
   ]
  },
  {
   "cell_type": "code",
   "execution_count": 36,
   "id": "81918547",
   "metadata": {},
   "outputs": [
    {
     "name": "stdout",
     "output_type": "stream",
     "text": [
      "zZa\n",
      "{'Z': 2, 'A': 1}\n",
      "Z\n"
     ]
    }
   ],
   "source": [
    "alpha = input()#알파벳 입력\n",
    "alpha = alpha.upper() # 모두 대문자로 변환\n",
    "dic = {} # {'문자': 문자 갯수}\n",
    "ans = ''\n",
    "for i in alpha:\n",
    "    if i not in dic: # dic에 없으면 처음 들어가는 것이므로\n",
    "        dic[i] = 1 # 문자의 갯수는 1\n",
    "    else: # 처음이 아닌 경우\n",
    "        dic[i] += 1  # 문자의 갯수 누적\n",
    "print(dic)\n",
    "dic = sorted(dic.items(),key = lambda x:x[1],reverse = True) # value값들 기준으로 오름차순\n",
    "if len(dic) > 1: # 나타난 문자가 1개 이상일 경우\n",
    "    if dic[0][1] == dic[1][1]: # 가장 많이 사용된 알파벳이 여러개\n",
    "        ans = '?'\n",
    "    else: # 가장 많이 사용된 알파벳이 한개\n",
    "        ans = dic[0][0]\n",
    "else:# 가장 많이 사용된 알파벳이 한개\n",
    "    ans = dic[0][0]\n",
    "print(ans)"
   ]
  },
  {
   "cell_type": "code",
   "execution_count": 49,
   "id": "8933564a",
   "metadata": {},
   "outputs": [
    {
     "name": "stdout",
     "output_type": "stream",
     "text": [
      "5\n",
      "31\n",
      "1 3\n",
      "1 2\n",
      "3 2\n",
      "1 3\n",
      "2 1\n",
      "2 3\n",
      "1 3\n",
      "1 2\n",
      "3 2\n",
      "3 1\n",
      "2 1\n",
      "3 2\n",
      "1 3\n",
      "1 2\n",
      "3 2\n",
      "1 3\n",
      "2 1\n",
      "2 3\n",
      "1 3\n",
      "2 1\n",
      "3 2\n",
      "3 1\n",
      "2 1\n",
      "2 3\n",
      "1 3\n",
      "1 2\n",
      "3 2\n",
      "1 3\n",
      "2 1\n",
      "2 3\n",
      "1 3\n"
     ]
    }
   ],
   "source": [
    "n = int(input())\n",
    "ans = []\n",
    "def hanoi(n, f, s, t):\n",
    "    if n == 1:\n",
    "        ans.append('%d %d'%(f,t))\n",
    "        return\n",
    "    hanoi(n - 1, f, t, s) #원반 n-1개는 2번째 기둥으로 이동(3번쨰가 임시 기둥)\n",
    "    ans.append('%d %d'%(f,t))# 제일 큰 원반을 3번째 기둥으로 이동\n",
    "    hanoi(n - 1, s, f, t) # 2번째기둥에 있는 원반을 3번째기둥으로 이동(1번쨰가 임시 기둥)\n",
    "hanoi(n, 1, 2, 3)\n",
    "print(len(ans))\n",
    "for i in ans:\n",
    "    print(i)"
   ]
  },
  {
   "cell_type": "code",
   "execution_count": 55,
   "id": "7e78a597",
   "metadata": {},
   "outputs": [
    {
     "name": "stdout",
     "output_type": "stream",
     "text": [
      "6\n",
      "(())())\n",
      "['(', '(']\n",
      "['(']\n",
      "['(']\n",
      "NO\n",
      "((()())()\n",
      "['(', '(', '(']\n",
      "['(', '(', '(']\n",
      "['(', '(']\n",
      "['(', '(']\n",
      "NO\n",
      "(()())((()))\n",
      "['(', '(']\n",
      "['(', '(']\n",
      "['(']\n",
      "['(', '(', '(']\n",
      "['(', '(']\n",
      "['(']\n",
      "Yes\n",
      "))))))))\n",
      "NO\n",
      "((((((((((\n",
      "NO\n",
      "))))))))))))\n",
      "NO\n"
     ]
    }
   ],
   "source": [
    "def parChecker(ps):\n",
    "    stack = []\n",
    "    for i in ps: \n",
    "        if i == '(': #'(' 이면 stack에 추가\n",
    "            stack.append('(')\n",
    "        elif i==')': # ')' 이면 stack에 '(' 이 무조건 있어야함\n",
    "            if '(' not in stack: \n",
    "                return 'NO'# '('이 없으면 No\n",
    "            else:\n",
    "                stack.remove('(') #'('이 있으면 Yes\n",
    "    if len(stack) != 0: # '(' 가 남아있으면 No\n",
    "        return 'NO'\n",
    "    return 'Yes'\n",
    "\n",
    "n = int(input())\n",
    "for i in range(n):\n",
    "    print(parChecker(input()))"
   ]
  },
  {
   "cell_type": "code",
   "execution_count": 80,
   "id": "3bf3c304",
   "metadata": {},
   "outputs": [
    {
     "name": "stdout",
     "output_type": "stream",
     "text": [
      "4 1000 1000 1000 1000\n",
      "4000\n",
      "7 2 1 4 5 1 3 3\n",
      "8\n",
      "0\n"
     ]
    }
   ],
   "source": [
    "def hist_area(hist):\n",
    "    area = []\n",
    "    for i in range(1, hist[0]+1): # 직사각형 갯수만큼 반복\n",
    "        for j in range(1, hist[i]+1): # 1부터 해당 직사각형의 크기까지\n",
    "            t_area = 0\n",
    "            for k in range(i, hist[0]+1): # 다음 직사각형이 현재 크기 k보다 크거나 같으면\n",
    "                if hist[k] >= j:\n",
    "                    t_area += j # 너비 누적\n",
    "                else: # 작으면 stop\n",
    "                    break\n",
    "            area.append(t_area)\n",
    "    return max(area)#직사각형 최대 크기 출력\n",
    "#     return area\n",
    "while(True):\n",
    "    hist = list(map(int, input().split()))\n",
    "    if hist[0] != 0:\n",
    "        print(hist_area(hist))\n",
    "    else:\n",
    "        break"
   ]
  },
  {
   "cell_type": "code",
   "execution_count": 83,
   "id": "a672961e",
   "metadata": {},
   "outputs": [
    {
     "name": "stdout",
     "output_type": "stream",
     "text": [
      "15\n"
     ]
    }
   ],
   "source": [
    "def solve(a: list):\n",
    "    return sum(a)\n",
    "print(solve([1,2,3,4,5]))"
   ]
  },
  {
   "cell_type": "code",
   "execution_count": 85,
   "id": "2f4921b9",
   "metadata": {},
   "outputs": [
    {
     "name": "stdout",
     "output_type": "stream",
     "text": [
      "ABC ABCDAB ABCDABCDABDE\n",
      "ABCDABD\n",
      "1\n",
      "16\n"
     ]
    }
   ],
   "source": [
    "t = input()\n",
    "p = input()\n",
    "def kmp(parent, pattern):\n",
    "    n = len(parent)\n",
    "    m = len(pattern)\n",
    "    table = [0] * m # pattern 매칭에 실패했을 경우 다음 검색할 위치 나타내기 위해 일치 갯수 기록 테이블\n",
    "    j = 0\n",
    "    for i in range(1, m):\n",
    "        while j > 0 and pattern[i] != pattern[j]: # prefix postfix 일치 여부 판단\n",
    "            j = table[j - 1]\n",
    "        if pattern[i] == pattern[j]: # 일치할 경우 다음 것도 비교\n",
    "            j += 1\n",
    "            table[i] = j\n",
    "    j = 0\n",
    "    count = 0\n",
    "    loc = []\n",
    "    for i in range(n): # parent에 pattern 매칭 \n",
    "        while j > 0 and parent[i] != pattern[j]:\n",
    "            j = table[j - 1]# 매칭 실패일 경우 다음 탐색 지점 받기\n",
    "        if parent[i] == pattern[j]:\n",
    "            if j == (m - 1): # 매칭 성공일 경우\n",
    "                count += 1\n",
    "                loc.append(i - m + 2)\n",
    "                j = table[j]\n",
    "            else:\n",
    "                j += 1\n",
    "    print(count)\n",
    "    print(*loc)\n",
    "kmp(t, p)"
   ]
  },
  {
   "cell_type": "code",
   "execution_count": null,
   "id": "f37f70f7",
   "metadata": {},
   "outputs": [],
   "source": []
  }
 ],
 "metadata": {
  "kernelspec": {
   "display_name": "Python 3",
   "language": "python",
   "name": "python3"
  },
  "language_info": {
   "codemirror_mode": {
    "name": "ipython",
    "version": 3
   },
   "file_extension": ".py",
   "mimetype": "text/x-python",
   "name": "python",
   "nbconvert_exporter": "python",
   "pygments_lexer": "ipython3",
   "version": "3.8.8"
  }
 },
 "nbformat": 4,
 "nbformat_minor": 5
}
